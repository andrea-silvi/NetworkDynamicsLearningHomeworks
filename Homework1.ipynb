{
  "nbformat": 4,
  "nbformat_minor": 0,
  "metadata": {
    "colab": {
      "name": "ND_HW1.ipynb",
      "provenance": [],
      "collapsed_sections": []
    },
    "kernelspec": {
      "name": "python3",
      "display_name": "Python 3"
    },
    "language_info": {
      "name": "python"
    }
  },
  "cells": [
    {
      "cell_type": "markdown",
      "metadata": {
        "id": "1HtP7szIAjtS"
      },
      "source": [
        "# **Network Dynamics: Homework 1**\n",
        "## Andrea Silvi (s290312), Politecnico di Torino\n",
        "## andrea.silvi@studenti.polito.it\n",
        "\n",
        "**Note**: I have shared ideas of how to solve this homework with classmates Rizzardi Andrea (s287396), Tatti Fabio (s282383), Turco Maria Francesca (s278427).\n",
        "\n",
        "\n",
        "\n",
        "\n"
      ]
    },
    {
      "cell_type": "code",
      "metadata": {
        "id": "JMTQYM982YCh"
      },
      "source": [
        "import networkx as nx\n",
        "import scipy.misc \n",
        "from scipy import io\n",
        "import numpy as np\n",
        "import cvxpy as cp"
      ],
      "execution_count": null,
      "outputs": []
    },
    {
      "cell_type": "markdown",
      "metadata": {
        "id": "BL97CTULUwZN"
      },
      "source": [
        "# **Exercise 1**"
      ]
    },
    {
      "cell_type": "markdown",
      "metadata": {
        "id": "EW01VHRnA6Jy"
      },
      "source": [
        "**Point b)**\n",
        "\n",
        "We add capacities and check the results obtained by hand."
      ]
    },
    {
      "cell_type": "code",
      "metadata": {
        "colab": {
          "base_uri": "https://localhost:8080/",
          "height": 319
        },
        "id": "KAHpqsyDEl7i",
        "outputId": "b2fed4ee-f19b-405e-dbfa-d211783d5c65"
      },
      "source": [
        "GG = nx.DiGraph()\n",
        "GG.add_edge(\"o\", \"a\", capacity=3.0)\n",
        "GG.add_edge(\"o\", \"b\", capacity=2.0)\n",
        "GG.add_edge(\"a\", \"b\", capacity=2.0)\n",
        "GG.add_edge(\"a\", \"d\", capacity=3.0)\n",
        "GG.add_edge(\"b\", \"d\", capacity=2.0)\n",
        "\n",
        "pos = {'o': [0, 2], 'a': [1, 3], 'b': [1, 1], 'd': [2, 2]}\n",
        "nx.draw(GG, pos, with_labels=True)"
      ],
      "execution_count": null,
      "outputs": [
        {
          "output_type": "display_data",
          "data": {
            "image/png": "[encoded data removed]",
            "text/plain": [
              "<Figure size 432x288 with 1 Axes>"
            ]
          },
          "metadata": {}
        }
      ]
    },
    {
      "cell_type": "code",
      "metadata": {
        "colab": {
          "base_uri": "https://localhost:8080/"
        },
        "id": "e6XFzHK0FcO7",
        "outputId": "b7f7aa43-00f8-4d59-a13f-278f2646c4aa"
      },
      "source": [
        "cut_value, partition = nx.minimum_cut(GG, \"o\", \"d\")\n",
        "print(f'the minimum (o-d) cut capacity is {cut_value}, with nodes partition {partition}')"
      ],
      "execution_count": null,
      "outputs": [
        {
          "output_type": "stream",
          "name": "stdout",
          "text": [
            "the minimum (o-d) cut capacity is 5.0, with nodes partition ({'b', 'o', 'a'}, {'d'})\n"
          ]
        }
      ]
    },
    {
      "cell_type": "markdown",
      "metadata": {
        "id": "bSla02AyBHfz"
      },
      "source": [
        "We check that there is no way to increase from 5 the minimum o-d cut capacity."
      ]
    },
    {
      "cell_type": "code",
      "metadata": {
        "colab": {
          "base_uri": "https://localhost:8080/"
        },
        "id": "wuID32_JW6aT",
        "outputId": "1ed7b6f8-61bb-42e4-9e37-5f7eb184a0b2"
      },
      "source": [
        "previous_cut_value = 5 #calculated at the previous step.\n",
        "for u,v in GG.edges():\n",
        "  GG[u][v]['capacity'] += 1   #add 1 unit to edge (u,v)\n",
        "  cut_value, partition = nx.minimum_cut(GG, \"o\", \"d\")\n",
        "  if cut_value > previous_cut_value:    #!found a way to get higher minimum cut\n",
        "    print(f'added to {(u,v)} and to {(x,y)}\\n')\n",
        "    previous_cut_value = cut_value\n",
        "  GG[u][v]['capacity'] -= 1\n",
        "print(f'cut value is now {previous_cut_value}')"
      ],
      "execution_count": null,
      "outputs": [
        {
          "output_type": "stream",
          "name": "stdout",
          "text": [
            "cut value is now 5\n"
          ]
        }
      ]
    },
    {
      "cell_type": "markdown",
      "metadata": {
        "id": "-P2N63JgYjau"
      },
      "source": [
        "As expected, 1 single unit of capacity cannot change the minimum cut, which stays at 5.\n",
        "\n",
        "**Point c)**\n",
        "\n",
        "Now we check our result: there are only 3 ways to reach a higher minimum cut capacity than the previous one."
      ]
    },
    {
      "cell_type": "code",
      "metadata": {
        "colab": {
          "base_uri": "https://localhost:8080/"
        },
        "id": "ju6VbAdTGtPi",
        "outputId": "bf37bc5f-6d3c-4e2b-f36b-36fab186baf3"
      },
      "source": [
        "for u,v in GG.edges():\n",
        "  GG[u][v]['capacity'] += 1\n",
        "  for x, y in GG.edges():\n",
        "    if (u == 'o' or u < x) and x != 'o':   #simple way to not print duplicate couples of edges.\n",
        "      GG[x][y]['capacity'] += 1\n",
        "      cut_value, partition = nx.minimum_cut(GG, \"o\", \"d\")\n",
        "      if cut_value == 6:  #found by hand, here I'm only checking my results.\n",
        "        print(f'added to {(u,v)} and to {(x,y)}\\n')\n",
        "      elif cut_value >6:  #my calculations would be wrong.\n",
        "            print(f'Error in calculations! Partition {partition} gives capacity {cut_value}.')\n",
        "      GG[x][y]['capacity'] -= 1\n",
        "  GG[u][v]['capacity'] -= 1"
      ],
      "execution_count": null,
      "outputs": [
        {
          "output_type": "stream",
          "name": "stdout",
          "text": [
            "added to ('o', 'a') and to ('a', 'd')\n",
            "\n",
            "added to ('o', 'a') and to ('b', 'd')\n",
            "\n",
            "added to ('o', 'b') and to ('b', 'd')\n",
            "\n"
          ]
        }
      ]
    },
    {
      "cell_type": "markdown",
      "metadata": {
        "id": "K_cURin2BrWn"
      },
      "source": [
        "**Point d)**\n",
        "\n",
        "Finally we check that there are only 6 ways to reach 7 as minimum cut capacity by adding 4 units."
      ]
    },
    {
      "cell_type": "code",
      "metadata": {
        "colab": {
          "base_uri": "https://localhost:8080/"
        },
        "id": "yRBrqpkyJDIm",
        "outputId": "b87e9fa1-2dc9-49ec-e609-b9bf282295a2"
      },
      "source": [
        "res = []\n",
        "for u,v in GG.edges():\n",
        "  GG[u][v]['capacity'] += 1\n",
        "  for x, y in GG.edges():\n",
        "      GG[x][y]['capacity'] += 1\n",
        "      for q, r in GG.edges():\n",
        "        GG[q][r]['capacity'] += 1\n",
        "        for k,l in GG.edges():\n",
        "          GG[k][l]['capacity'] += 1\n",
        "          cut_value, partition = nx.minimum_cut(GG, \"o\", \"d\")\n",
        "          if cut_value == 7:  #found by hand, here I'm only checking my results.\n",
        "            if sorted([(u,v), (x,y), (q,r), (k,l)]) not in res: #in order to not have duplicates in res.\n",
        "              res.append(sorted([(u,v), (x,y), (q,r), (k,l)]))\n",
        "          elif cut_value >7:  #my calculations would be wrong.\n",
        "            print(f'Error in calculations! Partition {partition} gives capacity {cut_value}.')\n",
        "          GG[k][l]['capacity'] -= 1 \n",
        "        GG[q][r]['capacity']-= 1\n",
        "      GG[x][y]['capacity'] -= 1\n",
        "  GG[u][v]['capacity'] -= 1\n",
        "\n",
        "for edges in res:\n",
        "  print(f'added edges {edges}\\n')\n",
        "  "
      ],
      "execution_count": null,
      "outputs": [
        {
          "output_type": "stream",
          "name": "stdout",
          "text": [
            "added edges [('a', 'd'), ('a', 'd'), ('o', 'a'), ('o', 'a')]\n",
            "\n",
            "added edges [('a', 'd'), ('b', 'd'), ('o', 'a'), ('o', 'a')]\n",
            "\n",
            "added edges [('b', 'd'), ('b', 'd'), ('o', 'a'), ('o', 'a')]\n",
            "\n",
            "added edges [('a', 'd'), ('b', 'd'), ('o', 'a'), ('o', 'b')]\n",
            "\n",
            "added edges [('b', 'd'), ('b', 'd'), ('o', 'a'), ('o', 'b')]\n",
            "\n",
            "added edges [('b', 'd'), ('b', 'd'), ('o', 'b'), ('o', 'b')]\n",
            "\n"
          ]
        }
      ]
    },
    {
      "cell_type": "markdown",
      "metadata": {
        "id": "3nTlJBB4U3hM"
      },
      "source": [
        "# **Exercise 2**"
      ]
    },
    {
      "cell_type": "markdown",
      "metadata": {
        "id": "DgoJwYUwyCCL"
      },
      "source": [
        "**Point a)**\n",
        "\n",
        "Green nodes are people, orange nodes are books. \n",
        "\n",
        "Edge ($Pi$, $Bj$) represent the interest  of person $P_i$ to book $B_j$."
      ]
    },
    {
      "cell_type": "code",
      "metadata": {
        "colab": {
          "base_uri": "https://localhost:8080/",
          "height": 319
        },
        "id": "gqJ8D9He3dLi",
        "outputId": "537867e3-addd-4078-8023-79a1a26a8580"
      },
      "source": [
        "G = nx.Graph()\n",
        "G.add_edges_from([('P1','B1'),('P1','B2'),('P2','B2'),('P2','B3'), ('P3', 'B1'),\n",
        "                  ('P3', 'B4'), ('P4', 'B1'), ('P4', 'B2'), ('P4', 'B4')])\n",
        "color_map = ['green' if 'P' in node else 'orange' for node in G]  \n",
        "pos = {'P1':[0,4], 'P2':[0,2], 'P3':[0,0], 'P4':[0,-2], 'B1':[2,5], 'B2': [2, 3],\n",
        "       'B3': [2, 1], 'B4': [2, -1]}\n",
        "nx.draw(G, pos, node_color=color_map, with_labels=True)\n",
        "Simple_G = G.copy()\n",
        "simple_pos = pos.copy()\n",
        "simple_colormap = color_map.copy()"
      ],
      "execution_count": null,
      "outputs": [
        {
          "output_type": "display_data",
          "data": {
            "image/png": "[encoded data removed]",
            "text/plain": [
              "<Figure size 432x288 with 1 Axes>"
            ]
          },
          "metadata": {}
        }
      ]
    },
    {
      "cell_type": "markdown",
      "metadata": {
        "id": "1uGluNTHxmGm"
      },
      "source": [
        "**Point b)**\n",
        "\n",
        "We start by adding a node origin and a node destination which are connected respectively to all the people and all the books."
      ]
    },
    {
      "cell_type": "code",
      "metadata": {
        "colab": {
          "base_uri": "https://localhost:8080/",
          "height": 319
        },
        "id": "pyBluvlIVM0W",
        "outputId": "61691874-2943-4878-89d1-00367b75c9f1"
      },
      "source": [
        "G = nx.DiGraph(G)\n",
        "for n in range(4):\n",
        "  p_n = 'P' + str(n+1)  #person_N\n",
        "  b_n = 'B' + str(n+1)  #book_N\n",
        "  G.add_edge('o', p_n)\n",
        "  G.add_edge(b_n, 'd')\n",
        "\n",
        "pos['o'] = [-1, 1]\n",
        "pos['d'] = [3, 2]\n",
        "\n",
        "for i in range(2):\n",
        "  color_map.append('grey')   #add black as color of node o and d\n",
        "\n",
        "nx.draw(G, pos, node_color=color_map, with_labels=True)"
      ],
      "execution_count": null,
      "outputs": [
        {
          "output_type": "display_data",
          "data": {
            "image/png": "[encoded data removed]",
            "text/plain": [
              "<Figure size 432x288 with 1 Axes>"
            ]
          },
          "metadata": {}
        }
      ]
    },
    {
      "cell_type": "markdown",
      "metadata": {
        "id": "6Q5c0opOx0_0"
      },
      "source": [
        "We assing capacity of 1 to all edges of the graph.\n",
        "\n",
        "In order to respect mass conservation on nodesets **P** and **B**, all capacities set at 1 means that a person can take only 1 book (only capacity of 1 between $o$ and $P_i$) and a book can be taken by only 1 person (capacity of 1 between $B_j$ and $d$). \n",
        "\n",
        "We then run the maximum_flow algorithm on this graph.\n",
        "\n",
        "If the maximum flow is equal to the number of people, then there exist a complete matching  for the people. \n",
        "\n",
        "Since the number of people is equal to the number of books, then this would also  be a perfect matching."
      ]
    },
    {
      "cell_type": "code",
      "metadata": {
        "colab": {
          "base_uri": "https://localhost:8080/"
        },
        "id": "qSmLVo8siN9-",
        "outputId": "0948acf2-2e06-4c21-f955-942adc3ce9a3"
      },
      "source": [
        "for i,j in G.edges():\n",
        "  G[i][j]['capacity'] = 1\n",
        "res = nx.maximum_flow(G, \"o\", \"d\")\n",
        "res"
      ],
      "execution_count": null,
      "outputs": [
        {
          "output_type": "execute_result",
          "data": {
            "text/plain": [
              "(4,\n",
              " {'B1': {'P1': 0, 'P3': 0, 'P4': 0, 'd': 1},\n",
              "  'B2': {'P1': 0, 'P2': 0, 'P4': 0, 'd': 1},\n",
              "  'B3': {'P2': 0, 'd': 1},\n",
              "  'B4': {'P3': 0, 'P4': 0, 'd': 1},\n",
              "  'P1': {'B1': 0, 'B2': 1},\n",
              "  'P2': {'B2': 0, 'B3': 1},\n",
              "  'P3': {'B1': 0, 'B4': 1},\n",
              "  'P4': {'B1': 1, 'B2': 0, 'B4': 0},\n",
              "  'd': {},\n",
              "  'o': {'P1': 1, 'P2': 1, 'P3': 1, 'P4': 1}})"
            ]
          },
          "metadata": {},
          "execution_count": 16
        }
      ]
    },
    {
      "cell_type": "code",
      "metadata": {
        "colab": {
          "base_uri": "https://localhost:8080/",
          "height": 319
        },
        "id": "gz5LtXUMkw9k",
        "outputId": "d4e46399-4d65-422d-fb88-d6920542a31a"
      },
      "source": [
        "links = res[1]  #dictionary of the result of nx.maximum_flow\n",
        "del links['o']  #we want to delete everything except the info of edges btwn people and books, in order to print the edges with flow.\n",
        "del links['d']\n",
        "for i in range(4):\n",
        "  del links['B'+str(i+1)]\n",
        "\n",
        "colored_edges = set()\n",
        "for i in range(4):\n",
        "  person = 'P'+str(i+1)\n",
        "  for b, v in links[person].items(): #for each person, iterate over dictionary with k = book, v = 1/0 if link present or not\n",
        "    if v > 0:   #if v>0, means that person (i+1) takes book b\n",
        "      colored_edges.add((person, b))\n",
        "\n",
        "colormap = []\n",
        "for i,j in Simple_G.edges():\n",
        "  if (i,j) in colored_edges or (j,i) in colored_edges:\n",
        "    colormap.append('red')    #edges used will be red\n",
        "  else:\n",
        "    colormap.append('black')\n",
        "\n",
        "nx.draw(Simple_G, simple_pos, node_color=simple_colormap, edge_color=colormap, with_labels=True)\n",
        "\n"
      ],
      "execution_count": null,
      "outputs": [
        {
          "output_type": "display_data",
          "data": {
            "image/png": "[encoded data removed]",
            "text/plain": [
              "<Figure size 432x288 with 1 Axes>"
            ]
          },
          "metadata": {}
        }
      ]
    },
    {
      "cell_type": "markdown",
      "metadata": {
        "id": "FH_pHiuDxON7"
      },
      "source": [
        "**Point c)**\n",
        "\n",
        "To model multiple copies of a book, we put the capacity of edge ($Book_i$, $d$) as\n",
        "number of copies of $Book_i$. \n",
        "\n",
        "We also put capacity of edge ($o$, $Person_j$) as infinity because people can have all the books they can get. \n",
        "\n",
        "We interpret this case as the person can only get 1 copy of the same book, hence the capacity of edge ($Person_j$, $Book_i$) remains 1.\n",
        "\n",
        "This time, the maximum flow will represent the number of total copies assigned\n",
        "to people."
      ]
    },
    {
      "cell_type": "code",
      "metadata": {
        "colab": {
          "base_uri": "https://localhost:8080/"
        },
        "id": "KKpIyL4Bory_",
        "outputId": "a3619011-1ec1-45fa-d33a-8421b1b48a32"
      },
      "source": [
        "copies = [2, 3, 2, 2]\n",
        "for i in range(4):\n",
        "  G['o']['P'+str(i+1)]['capacity'] = np.inf\n",
        "  G['B'+str(i+1)]['d']['capacity'] = copies[i]\n",
        "\n",
        "res = nx.maximum_flow(G, \"o\", \"d\")\n",
        "res\n"
      ],
      "execution_count": null,
      "outputs": [
        {
          "output_type": "execute_result",
          "data": {
            "text/plain": [
              "(8,\n",
              " {'B1': {'P1': 0, 'P3': 0, 'P4': 0, 'd': 2},\n",
              "  'B2': {'P1': 0, 'P2': 0, 'P4': 0, 'd': 3},\n",
              "  'B3': {'P2': 0, 'd': 1},\n",
              "  'B4': {'P3': 0, 'P4': 0, 'd': 2},\n",
              "  'P1': {'B1': 0, 'B2': 1},\n",
              "  'P2': {'B2': 1, 'B3': 1},\n",
              "  'P3': {'B1': 1, 'B4': 1},\n",
              "  'P4': {'B1': 1, 'B2': 1, 'B4': 1},\n",
              "  'd': {},\n",
              "  'o': {'P1': 1, 'P2': 2, 'P3': 2, 'P4': 3}})"
            ]
          },
          "metadata": {},
          "execution_count": 14
        }
      ]
    },
    {
      "cell_type": "code",
      "metadata": {
        "colab": {
          "base_uri": "https://localhost:8080/",
          "height": 319
        },
        "id": "H4nD7WJuss54",
        "outputId": "dc91eb97-342b-49b1-e932-839f69d15d1f"
      },
      "source": [
        "links = res[1]\n",
        "del links['o'] #we want to delete everything except the info of edges btwn people and books, in order to print the edges with flow.\n",
        "del links['d']\n",
        "for i in range(4):\n",
        "  del links['B'+str(i+1)]\n",
        "\n",
        "colored_edges = set()\n",
        "for i in range(4):\n",
        "  person = 'P'+str(i+1)\n",
        "  for b, v in links[person].items(): #for each person, iterate over dictionary with k = book, v = 1/0 if link present or not\n",
        "    if v > 0:   #if v>0, means that person (i+1) takes book b\n",
        "      colored_edges.add((person, b))\n",
        "\n",
        "colormap = []\n",
        "for i,j in Simple_G.edges():\n",
        "  if (i,j) in colored_edges or (j,i) in colored_edges:\n",
        "    colormap.append('red')\n",
        "  else:\n",
        "    colormap.append('black')\n",
        "\n",
        "nx.draw(Simple_G, simple_pos, node_color=simple_colormap, edge_color=colormap, with_labels=True)\n",
        "\n"
      ],
      "execution_count": null,
      "outputs": [
        {
          "output_type": "display_data",
          "data": {
            "image/png": "[encoded data removed]",
            "text/plain": [
              "<Figure size 432x288 with 1 Axes>"
            ]
          },
          "metadata": {}
        }
      ]
    },
    {
      "cell_type": "markdown",
      "metadata": {
        "id": "TvFIsqtZwhuT"
      },
      "source": [
        "**Point d)**\n",
        "\n",
        "Since the library can sell 1 copy of a book and buy a copy of another one, based on the results of *point c)* and the graph above we can see that $Person_1$ is interested in $Book_1$ but cannot take it, since it has only 2 copies but 3 contenders. \n",
        "\n",
        "Instead, $Book_3$ (which the library has 3 copies of), has only 1 person interested in it ($Person_2$). \n",
        "\n",
        "Then, the library should sell 1 copy of $Book_3$ and buy another one of $Book_1$.\n",
        "\n",
        "Below, we can see the results of this."
      ]
    },
    {
      "cell_type": "code",
      "metadata": {
        "colab": {
          "base_uri": "https://localhost:8080/"
        },
        "id": "93zajfmWxLfJ",
        "outputId": "3cdf950c-f9a3-4477-9d8f-7fcc5f3f3653"
      },
      "source": [
        "new_copies = [3, 3, 1, 2]\n",
        "for i in range(4):\n",
        "  G['B'+str(i+1)]['d']['capacity'] = new_copies[i]\n",
        "\n",
        "res = nx.maximum_flow(G, \"o\", \"d\")\n",
        "res"
      ],
      "execution_count": null,
      "outputs": [
        {
          "output_type": "execute_result",
          "data": {
            "text/plain": [
              "(9,\n",
              " {'B1': {'P1': 0, 'P3': 0, 'P4': 0, 'd': 3},\n",
              "  'B2': {'P1': 0, 'P2': 0, 'P4': 0, 'd': 3},\n",
              "  'B3': {'P2': 0, 'd': 1},\n",
              "  'B4': {'P3': 0, 'P4': 0, 'd': 2},\n",
              "  'P1': {'B1': 1, 'B2': 1},\n",
              "  'P2': {'B2': 1, 'B3': 1},\n",
              "  'P3': {'B1': 1, 'B4': 1},\n",
              "  'P4': {'B1': 1, 'B2': 1, 'B4': 1},\n",
              "  'd': {},\n",
              "  'o': {'P1': 2, 'P2': 2, 'P3': 2, 'P4': 3}})"
            ]
          },
          "metadata": {},
          "execution_count": 16
        }
      ]
    },
    {
      "cell_type": "code",
      "metadata": {
        "colab": {
          "base_uri": "https://localhost:8080/",
          "height": 319
        },
        "id": "6-8d5HK61LBi",
        "outputId": "8fc1cd42-645e-46d7-da6a-946cf8866572"
      },
      "source": [
        "links = res[1]\n",
        "del links['o'] #we want to delete everything except the info of edges btwn people and books, in order to print the edges with flow.\n",
        "del links['d']\n",
        "for i in range(4):\n",
        "  del links['B'+str(i+1)]\n",
        "\n",
        "colored_edges = set()\n",
        "for i in range(4):\n",
        "  person = 'P'+str(i+1)\n",
        "  for b, v in links[person].items(): #for each person, iterate over dictionary with k = book, v = 1/0 if link present or not\n",
        "    if v > 0:   #if v>0, means that person (i+1) takes book b\n",
        "      colored_edges.add((person, b))\n",
        "\n",
        "colormap = []\n",
        "for i,j in Simple_G.edges():\n",
        "  if (i,j) in colored_edges or (j,i) in colored_edges:\n",
        "    colormap.append('red')\n",
        "  else:\n",
        "    colormap.append('black')\n",
        "\n",
        "nx.draw(Simple_G, simple_pos, node_color=simple_colormap, edge_color=colormap, with_labels=True)\n",
        "\n"
      ],
      "execution_count": null,
      "outputs": [
        {
          "output_type": "display_data",
          "data": {
            "image/png": "[encoded data removed]",
            "text/plain": [
              "<Figure size 432x288 with 1 Axes>"
            ]
          },
          "metadata": {}
        }
      ]
    },
    {
      "cell_type": "markdown",
      "metadata": {
        "id": "7Jgoi2n0NEMV"
      },
      "source": [
        "# **Exercise 3**"
      ]
    },
    {
      "cell_type": "code",
      "metadata": {
        "id": "A8PQk7upM4nk"
      },
      "source": [
        "file = io.loadmat('capacities.mat')\n",
        "capacities = file.get(\"capacities\")\n",
        "capacities = capacities.reshape(28,)\n",
        "file = io.loadmat(\"traveltime.mat\")\n",
        "traveltime = file.get(\"traveltime\")\n",
        "traveltime = traveltime.reshape(28,)\n",
        "file = io.loadmat(\"flow.mat\")\n",
        "flow = file.get(\"flow\")\n",
        "flow = flow.reshape(28,)\n",
        "file = io.loadmat(\"traffic.mat\")\n",
        "traffic = file.get(\"traffic\")"
      ],
      "execution_count": null,
      "outputs": []
    },
    {
      "cell_type": "code",
      "metadata": {
        "colab": {
          "base_uri": "https://localhost:8080/"
        },
        "id": "C041ivlmUeTA",
        "outputId": "faee0a27-5b3c-4d05-af10-61bf986ee53f"
      },
      "source": [
        "traveltime"
      ],
      "execution_count": null,
      "outputs": [
        {
          "output_type": "execute_result",
          "data": {
            "text/plain": [
              "array([0.14583 , 0.044833, 0.129   , 0.18667 , 0.12983 , 0.078333,\n",
              "       0.094   , 0.057333, 0.14167 , 0.10517 , 0.10667 , 0.10483 ,\n",
              "       0.11233 , 0.1805  , 0.1215  , 0.080667, 0.075333, 0.056667,\n",
              "       0.032667, 0.035   , 0.066667, 0.11283 , 0.078333, 0.054167,\n",
              "       0.095833, 0.073   , 0.165   , 0.14867 ])"
            ]
          },
          "metadata": {},
          "execution_count": 3
        }
      ]
    },
    {
      "cell_type": "code",
      "metadata": {
        "colab": {
          "base_uri": "https://localhost:8080/"
        },
        "id": "yzJP3Gd-smFV",
        "outputId": "da1ff3da-40d5-4065-af87-1d7e194af7f0"
      },
      "source": [
        "capacities"
      ],
      "execution_count": null,
      "outputs": [
        {
          "output_type": "execute_result",
          "data": {
            "text/plain": [
              "array([ 8741,  9864, 13350, 10926, 13707,  6960,  7422,  6678,  6297,\n",
              "       11102,  8899,  8970,  9753,  9719,  9083,  7416, 13353, 11216,\n",
              "       10947, 10019,  8732, 10763,  6677,  9403, 10355,  9067, 11990,\n",
              "        8258], dtype=uint16)"
            ]
          },
          "metadata": {},
          "execution_count": 4
        }
      ]
    },
    {
      "cell_type": "code",
      "metadata": {
        "colab": {
          "base_uri": "https://localhost:8080/"
        },
        "id": "dpDgTvAHsoKQ",
        "outputId": "1d794a6d-3aed-4bd2-fb80-2af2a1826218"
      },
      "source": [
        "flow"
      ],
      "execution_count": null,
      "outputs": [
        {
          "output_type": "execute_result",
          "data": {
            "text/plain": [
              "array([ 7524,  6537, 11139,  9282,  9282,  6398,  6728,  5988,  5951,\n",
              "        9557,  7423,  7423,  6814,  8536,  7652,  6537, 11924,  9640,\n",
              "        8161,  8603,  7974,  9446,  5562,  6719,  9455,  6686, 10833,\n",
              "        7403], dtype=uint16)"
            ]
          },
          "metadata": {},
          "execution_count": 5
        }
      ]
    },
    {
      "cell_type": "code",
      "metadata": {
        "colab": {
          "base_uri": "https://localhost:8080/"
        },
        "id": "YAvqg9UGsrXP",
        "outputId": "1a2fdc66-29da-41f1-9516-c8738057b374"
      },
      "source": [
        "traffic "
      ],
      "execution_count": null,
      "outputs": [
        {
          "output_type": "execute_result",
          "data": {
            "text/plain": [
              "array([[ 1,  0,  0,  0,  1,  0,  0,  0,  0,  0,  0,  0,  0,  0,  0,  0,\n",
              "         0,  0,  0,  0,  0,  0,  0,  0,  0,  0,  0,  0],\n",
              "       [-1,  1,  0,  0,  0,  0,  0,  0,  0,  1,  0,  0,  0,  0,  0,  0,\n",
              "         0,  0,  0,  0,  0,  0,  0,  0,  0,  0,  0,  0],\n",
              "       [ 0, -1,  1,  0,  0,  0,  0,  0,  0,  0,  1,  1,  0,  0,  0,  0,\n",
              "         0,  0,  0,  0,  0,  0,  0,  0,  0,  0,  0,  0],\n",
              "       [ 0,  0, -1,  1,  0,  0,  0,  0,  0,  0,  0,  0,  1,  0,  0,  0,\n",
              "         0,  0,  0,  0,  0,  0,  0,  0,  0,  0,  0,  0],\n",
              "       [ 0,  0,  0, -1,  0,  0,  0,  0,  0,  0,  0,  0,  0,  1,  0,  0,\n",
              "         0,  0,  0,  0,  0,  0,  0,  0,  0,  0,  0,  0],\n",
              "       [ 0,  0,  0,  0, -1,  1,  0,  0,  0,  0,  0,  0,  0,  0,  1,  0,\n",
              "         0,  0,  0,  0,  0,  0,  0,  0,  0,  0,  0,  0],\n",
              "       [ 0,  0,  0,  0,  0, -1,  1,  0,  0, -1,  0,  0,  0,  0,  0,  0,\n",
              "         0,  1,  0,  0,  0,  0,  0,  0,  0,  0,  0,  0],\n",
              "       [ 0,  0,  0,  0,  0,  0, -1,  1,  0,  0, -1,  0,  0,  0,  0,  0,\n",
              "         0,  0,  1,  0,  0,  0,  0,  0,  0,  0,  0,  0],\n",
              "       [ 0,  0,  0,  0,  0,  0,  0, -1,  1,  0,  0, -1, -1,  0,  0,  0,\n",
              "         0,  0,  0,  1,  0,  0,  0,  0,  0,  0,  0,  0],\n",
              "       [ 0,  0,  0,  0,  0,  0,  0,  0,  0,  0,  0,  0,  0,  0, -1,  1,\n",
              "         1, -1,  0,  0,  0,  0,  0,  0,  0,  0,  0,  0],\n",
              "       [ 0,  0,  0,  0,  0,  0,  0,  0,  0,  0,  0,  0,  0,  0,  0, -1,\n",
              "         0,  0, -1,  0,  1,  0,  0,  1,  0,  0,  0,  0],\n",
              "       [ 0,  0,  0,  0,  0,  0,  0,  0,  0,  0,  0,  0,  0,  0,  0,  0,\n",
              "         0,  0,  0, -1, -1,  1,  0,  0,  0,  0,  0,  0],\n",
              "       [ 0,  0,  0,  0,  0,  0,  0,  0, -1,  0,  0,  0,  0,  0,  0,  0,\n",
              "         0,  0,  0,  0,  0, -1,  1,  0,  1,  0,  0,  0],\n",
              "       [ 0,  0,  0,  0,  0,  0,  0,  0,  0,  0,  0,  0,  0, -1,  0,  0,\n",
              "         0,  0,  0,  0,  0,  0, -1,  0,  0,  1,  0,  0],\n",
              "       [ 0,  0,  0,  0,  0,  0,  0,  0,  0,  0,  0,  0,  0,  0,  0,  0,\n",
              "        -1,  0,  0,  0,  0,  0,  0, -1,  0,  0,  1,  0],\n",
              "       [ 0,  0,  0,  0,  0,  0,  0,  0,  0,  0,  0,  0,  0,  0,  0,  0,\n",
              "         0,  0,  0,  0,  0,  0,  0,  0,  0,  0, -1,  1],\n",
              "       [ 0,  0,  0,  0,  0,  0,  0,  0,  0,  0,  0,  0,  0,  0,  0,  0,\n",
              "         0,  0,  0,  0,  0,  0,  0,  0, -1, -1,  0, -1]], dtype=int16)"
            ]
          },
          "metadata": {},
          "execution_count": 6
        }
      ]
    },
    {
      "cell_type": "markdown",
      "metadata": {
        "id": "-VBQjult561j"
      },
      "source": [
        "**Point a)**\n",
        "\n",
        "We firstly define the shortest path problem between node 1 and 7 as a network optimization problem, where the cost function for each link is its length.\n",
        "\n"
      ]
    },
    {
      "cell_type": "code",
      "metadata": {
        "id": "BNG2-x053W9O"
      },
      "source": [
        "B = traffic #the node-link incidence matrix.\n",
        "n_edges = len(traveltime)"
      ],
      "execution_count": null,
      "outputs": []
    },
    {
      "cell_type": "code",
      "metadata": {
        "colab": {
          "base_uri": "https://localhost:8080/"
        },
        "id": "e7cSXmt6OBWk",
        "outputId": "df5b5d1e-9872-472d-ef0a-83d063af8ed0"
      },
      "source": [
        "tau = 1\n",
        "nu = np.zeros(17)\n",
        "nu[0] = 1\n",
        "nu[-1] = -1\n",
        "nu = nu * tau # exogenous flow vector.\n",
        "\n",
        "# l stores the coefficients of the linear terms of the objective function, in this case the length of the links.\n",
        "\n",
        "l = traveltime # the traveltime\n",
        "\n",
        "# Construct the problem.\n",
        "f = cp.Variable(n_edges)\n",
        "objective = cp.Minimize(l.T @ f)  #cost function to minimize.\n",
        "constraints = [B @ f == nu, f >=0]  #constraints.\n",
        "prob = cp.Problem(objective, constraints)\n",
        "\n",
        "result = prob.solve()   #optimal objective value.\n",
        "\n",
        "opt_flow = f.value    #optimal value of f.\n",
        "rounded_opt_flow = [round(v) for v in opt_flow] #we are interested if it's taken or not (1/0).\n",
        "print(\"Optimal f:\", rounded_opt_flow)"
      ],
      "execution_count": null,
      "outputs": [
        {
          "output_type": "stream",
          "name": "stdout",
          "text": [
            "Optimal f: [1, 1, 0, 0, 0, 0, 0, 0, 1, 0, 0, 1, 0, 0, 0, 0, 0, 0, 0, 0, 0, 0, 0, 0, 1, 0, 0, 0]\n"
          ]
        }
      ]
    },
    {
      "cell_type": "code",
      "metadata": {
        "colab": {
          "base_uri": "https://localhost:8080/"
        },
        "id": "PYPDEL18rcxn",
        "outputId": "b3c7ac8e-0e6f-402e-d82c-3aa74b73ca7c"
      },
      "source": [
        "print(\"Optimal path from 1 to 17:\\n\")\n",
        "res = []\n",
        "for j in range(B.shape[1]):\n",
        "  for i in range(B.shape[0]):\n",
        "    if B[i][j] == 1:\n",
        "      u = i+1\n",
        "    elif B[i][j] == -1:\n",
        "      v = i+1\n",
        "  if rounded_opt_flow[j] == 1:    \n",
        "    res.append((u,v))\n",
        "print(sorted(res))"
      ],
      "execution_count": null,
      "outputs": [
        {
          "output_type": "stream",
          "name": "stdout",
          "text": [
            "Optimal path from 1 to 17:\n",
            "\n",
            "[(1, 2), (2, 3), (3, 9), (9, 13), (13, 17)]\n"
          ]
        }
      ]
    },
    {
      "cell_type": "markdown",
      "metadata": {
        "id": "hWWOEJbt6iTi"
      },
      "source": [
        "**Point b)**\n",
        "\n",
        "We then find the maximum flow between node 1 and 17. For this we define the graph of the network and we frame the problem as an optimization problem where our objective is to maximize tau over the network. We also check the result with the max flow min cut theorem."
      ]
    },
    {
      "cell_type": "code",
      "metadata": {
        "id": "2-DFnkqG8_V_"
      },
      "source": [
        "G = nx.DiGraph()\n",
        "\n",
        "for j in range(B.shape[1]): #iterate over links\n",
        "  for i in range(B.shape[0]): #iterate over nodes\n",
        "    if B[i][j] == 1:  #then node i+1 is the tail of link j\n",
        "      u = i+1\n",
        "    elif B[i][j] == -1: #then node i+1 is the head of link j\n",
        "      v = i+1\n",
        "  G.add_edge(u, v, capacity = capacities[j]) #assign to the j-th link the j-th capacity"
      ],
      "execution_count": null,
      "outputs": []
    },
    {
      "cell_type": "code",
      "metadata": {
        "colab": {
          "base_uri": "https://localhost:8080/"
        },
        "id": "wVqIC9wJ_db6",
        "outputId": "5a84bff4-78fd-43f9-adad-afb7acdc8f17"
      },
      "source": [
        "tau = cp.Variable(1)    #the variable to be maximized\n",
        "f = cp.Variable(n_edges)  #vector variable\n",
        "\n",
        "nu = np.zeros(B.shape[0])  #maximum flow between 1 and 17, so exogenous flow will be    \n",
        "nu[0] = 1               #tau entering in 1 and -tau exiting in 17\n",
        "nu[-1] = -1\n",
        "\n",
        "objective = cp.Maximize(tau)\n",
        "constraints = [tau>=0, f>=0, f<=capacities, B @ f == tau*nu]\n",
        "\n",
        "prob = cp.Problem(objective, constraints)\n",
        "\n",
        "# The optimal objective value is returned by `prob.solve()`.\n",
        "result = prob.solve()\n",
        "# The optimal value for f is stored in `f.value`.\n",
        "\n",
        "print(\"Optimal tau:\", round(tau.value[0]))"
      ],
      "execution_count": null,
      "outputs": [
        {
          "output_type": "stream",
          "name": "stdout",
          "text": [
            "Optimal tau: 22448\n"
          ]
        }
      ]
    },
    {
      "cell_type": "code",
      "metadata": {
        "colab": {
          "base_uri": "https://localhost:8080/"
        },
        "id": "f_uxvgOHBCd0",
        "outputId": "10fdbf46-317e-403b-9ddb-686aaa788464"
      },
      "source": [
        "nx.maximum_flow(G, 1, 17)\n"
      ],
      "execution_count": null,
      "outputs": [
        {
          "output_type": "execute_result",
          "data": {
            "text/plain": [
              "(22448,\n",
              " {1: {2: 8741, 6: 13707},\n",
              "  2: {3: 8741, 7: 0},\n",
              "  3: {4: 0, 8: 0, 9: 8741},\n",
              "  4: {5: 0, 9: 0},\n",
              "  5: {14: 0},\n",
              "  6: {7: 4624, 10: 9083},\n",
              "  7: {8: 4624, 10: 0},\n",
              "  8: {9: 4624, 11: 0},\n",
              "  9: {12: 7068, 13: 6297},\n",
              "  10: {11: 825, 15: 8258},\n",
              "  11: {12: 825, 15: 0},\n",
              "  12: {13: 7893},\n",
              "  13: {14: 3835, 17: 10355},\n",
              "  14: {17: 3835},\n",
              "  15: {16: 8258},\n",
              "  16: {17: 8258},\n",
              "  17: {}})"
            ]
          },
          "metadata": {},
          "execution_count": 12
        }
      ]
    },
    {
      "cell_type": "markdown",
      "metadata": {
        "id": "Jg7HEph6BUeT"
      },
      "source": [
        "**Point c)**"
      ]
    },
    {
      "cell_type": "code",
      "metadata": {
        "id": "TIvaHUsfdz1G"
      },
      "source": [
        "nu_real = B@flow    #the actual exogenous flow vector."
      ],
      "execution_count": null,
      "outputs": []
    },
    {
      "cell_type": "code",
      "metadata": {
        "colab": {
          "base_uri": "https://localhost:8080/"
        },
        "id": "zKY-CgungXSm",
        "outputId": "06797dae-3683-4257-b6df-24daca09bacf"
      },
      "source": [
        "nu_real"
      ],
      "execution_count": null,
      "outputs": [
        {
          "output_type": "execute_result",
          "data": {
            "text/plain": [
              "array([ 16806,   8570,  19448,   4957,   -746,   4768,    413,     -2,\n",
              "        -5671,   1169,     -5,  -7131,   -380,  -7412,  -7810,  -3430,\n",
              "       -23544], dtype=int32)"
            ]
          },
          "metadata": {},
          "execution_count": 14
        }
      ]
    },
    {
      "cell_type": "code",
      "metadata": {
        "colab": {
          "base_uri": "https://localhost:8080/"
        },
        "id": "daARRu8YgYez",
        "outputId": "365b6a06-33c5-477f-c121-733f68067384"
      },
      "source": [
        "nu = np.zeros(B.shape[0])\n",
        "nu[0] = nu_real[0]\n",
        "nu[-1] = -nu_real[0]\n",
        "nu    #we simplify nu in order to have a single origin single destination problem."
      ],
      "execution_count": null,
      "outputs": [
        {
          "output_type": "execute_result",
          "data": {
            "text/plain": [
              "array([ 16806.,      0.,      0.,      0.,      0.,      0.,      0.,\n",
              "            0.,      0.,      0.,      0.,      0.,      0.,      0.,\n",
              "            0.,      0., -16806.])"
            ]
          },
          "metadata": {},
          "execution_count": 15
        }
      ]
    },
    {
      "cell_type": "markdown",
      "metadata": {
        "id": "hboTi5-eBgZz"
      },
      "source": [
        "**Point d)**\n",
        "\n",
        "We then find the social optimum flow $f^*$ by implementing a network optimization problem where the cost function of each link $e$ is $f_ed_e(f_e) =\\frac{l_eC_e}{1-f_e/C_e} - l_eC_e$.\n",
        "\n",
        "Note that in the constraints, other than the mass conservation and non-negativity of the flow, we put that $f_e$ cannot be higher than $C_e-1$, since the delay function $d_e(f_e=C_e) = \\infty$ and the flow on link $e$ represents the number of cars, which has to be an integer."
      ]
    },
    {
      "cell_type": "code",
      "metadata": {
        "colab": {
          "base_uri": "https://localhost:8080/"
        },
        "id": "Za6GSPaYlyw3",
        "outputId": "67614de2-0e5e-4e7d-bff0-7ba09ff72377"
      },
      "source": [
        "l = traveltime \n",
        "\n",
        "# Construct the problem.\n",
        "f = cp.Variable(n_edges)\n",
        "objective = cp.Minimize(((cp.inv_pos(np.ones(n_edges)-(f/capacities))).T@(l*capacities))-l.T@capacities) #the cost function defined above.\n",
        "constraints = [B @ f == nu, f >=0, f <= (capacities-1)]\n",
        "prob = cp.Problem(objective, constraints)\n",
        "\n",
        "result = prob.solve()\n",
        "opt_flow = f.value\n",
        "rounded_opt_flow = [round(v) for v in opt_flow]\n",
        "print(\"Optimal f:\", rounded_opt_flow)"
      ],
      "execution_count": null,
      "outputs": [
        {
          "output_type": "stream",
          "name": "stdout",
          "text": [
            "Optimal f: [6642, 6059, 3132, 3132, 10164, 4638, 3006, 2543, 3132, 583, 0, 2927, 0, 3132, 5525, 2854, 4886, 2215, 464, 2338, 3318, 5656, 2373, 0, 6414, 5505, 4886, 4886]\n"
          ]
        }
      ]
    },
    {
      "cell_type": "code",
      "metadata": {
        "colab": {
          "base_uri": "https://localhost:8080/"
        },
        "id": "CJp28pDGYS3L",
        "outputId": "5f71c44b-119c-4552-cc90-5c24d94466bb"
      },
      "source": [
        "print(\"Optimal flow cost:\", result)"
      ],
      "execution_count": null,
      "outputs": [
        {
          "output_type": "stream",
          "name": "stdout",
          "text": [
            "Optimal flow cost: 25943.61566052671\n"
          ]
        }
      ]
    },
    {
      "cell_type": "markdown",
      "metadata": {
        "id": "kgOaRA_QDt8F"
      },
      "source": [
        "**Point e)**\n",
        "\n",
        "We now find the Wardrop equilibrium $f^{(0)}$, by using the cost function on each link $e$ $\\int_0^{f_e}d_e(s)ds$, with $d_e(f_e) = \\frac{l_e}{1-f_e/C_e}$."
      ]
    },
    {
      "cell_type": "code",
      "metadata": {
        "colab": {
          "base_uri": "https://localhost:8080/"
        },
        "id": "Hl1MdxJLwT-N",
        "outputId": "96259178-c7ae-4e57-e1e9-2bb0e300a793"
      },
      "source": [
        "objective = cp.Minimize((capacities*l).T @ (cp.log(capacities) - cp.log(capacities-f)) ) #the result of the sum of the costs.\n",
        "prob = cp.Problem(objective, constraints)\n",
        "w_result = prob.solve()\n",
        "wardrop_flow = f.value\n",
        "rounded_wardrop_flow = [round(v) for v in wardrop_flow]\n",
        "print(\"Wardrop f:\", rounded_wardrop_flow)"
      ],
      "execution_count": null,
      "outputs": [
        {
          "output_type": "stream",
          "name": "stdout",
          "text": [
            "Wardrop f: [6716, 6716, 2367, 2367, 10090, 4645, 2804, 2284, 3418, 0, 177, 4171, 0, 2367, 5445, 2353, 4933, 1842, 697, 3036, 3050, 6087, 2587, 0, 6919, 4954, 4933, 4933]\n"
          ]
        }
      ]
    },
    {
      "cell_type": "code",
      "metadata": {
        "colab": {
          "base_uri": "https://localhost:8080/"
        },
        "id": "TL64xf-p5x5L",
        "outputId": "6aeac026-ca2e-4106-d189-9ef771eb1d45"
      },
      "source": [
        "def cost(f, l, c):    #function that calculates the social optimum cost.\n",
        "  return np.sum(((l*c)/(np.ones(len(f))- f/c)) - l*c)\n",
        "\n",
        "\n",
        "wardrop_cost = cost(f = wardrop_flow, l=traveltime, c=capacities)\n",
        "print(\"Wardrop cost:\", wardrop_cost)"
      ],
      "execution_count": null,
      "outputs": [
        {
          "output_type": "stream",
          "name": "stdout",
          "text": [
            "Wardrop cost: 26292.96256960744\n"
          ]
        }
      ]
    },
    {
      "cell_type": "code",
      "metadata": {
        "colab": {
          "base_uri": "https://localhost:8080/"
        },
        "id": "arSK1ERt_3th",
        "outputId": "c994a83d-e1ef-4a47-8f59-bd85f444fb6b"
      },
      "source": [
        "optimal_cost = cost(f = opt_flow, l=traveltime, c=capacities)\n",
        "print(\"Social optimum cost:\", optimal_cost)"
      ],
      "execution_count": null,
      "outputs": [
        {
          "output_type": "stream",
          "name": "stdout",
          "text": [
            "Social optimum cost: 25943.622068139466\n"
          ]
        }
      ]
    },
    {
      "cell_type": "code",
      "metadata": {
        "colab": {
          "base_uri": "https://localhost:8080/"
        },
        "id": "mfVUSRsU73Qt",
        "outputId": "dfac9786-e8bf-47d7-a94b-abefe37f4f02"
      },
      "source": [
        "PoA = wardrop_cost/optimal_cost\n",
        "\n",
        "print(\"The price of anarchy:\", PoA)"
      ],
      "execution_count": null,
      "outputs": [
        {
          "output_type": "stream",
          "name": "stdout",
          "text": [
            "The price of anarchy: 1.0134653712018489\n"
          ]
        }
      ]
    },
    {
      "cell_type": "markdown",
      "metadata": {
        "id": "2visMzP5EsSC"
      },
      "source": [
        "**Point e')**\n",
        "\n",
        "We now introduce tolls in order to make the Wardrop equilibrium coincide with the social optimum. We define a toll on link $e$ as $ω_e = f_e^*d_e^\\prime(f_e^*)$."
      ]
    },
    {
      "cell_type": "code",
      "metadata": {
        "id": "fYzxyBc8MvUn"
      },
      "source": [
        "omegas = ((traveltime*(capacities) / (capacities - opt_flow)**2))* opt_flow #tolls defined as the derivative of the delay computed at\n",
        "                                                                            #social optimum times the social optimum."
      ],
      "execution_count": null,
      "outputs": []
    },
    {
      "cell_type": "code",
      "metadata": {
        "colab": {
          "base_uri": "https://localhost:8080/"
        },
        "id": "MNZoGMhomqP1",
        "outputId": "eeb4072c-8db8-4b20-bd36-2f7fe28e33f5"
      },
      "source": [
        "omegas"
      ],
      "execution_count": null,
      "outputs": [
        {
          "output_type": "execute_result",
          "data": {
            "text/plain": [
              "array([1.92257248e+00, 1.85064919e-01, 5.16705621e-02, 1.05178880e-01,\n",
              "       1.44051984e+00, 4.69173917e-01, 1.07572598e-01, 5.69227494e-02,\n",
              "       2.78798925e-01, 6.15757825e-03, 4.25031061e-08, 7.53475592e-02,\n",
              "       4.96687145e-09, 1.26661488e-01, 4.81719021e-01, 8.20541383e-02,\n",
              "       6.85712513e-02, 1.73822035e-02, 1.50914079e-03, 1.38927173e-02,\n",
              "       6.58990076e-02, 2.63301569e-01, 6.70055755e-02, 2.36521078e-09,\n",
              "       4.09839635e-01, 2.87277108e-01, 1.91576832e-01, 5.27749722e-01])"
            ]
          },
          "metadata": {},
          "execution_count": 23
        }
      ]
    },
    {
      "cell_type": "code",
      "metadata": {
        "colab": {
          "base_uri": "https://localhost:8080/"
        },
        "id": "7ti8PvDsOR_C",
        "outputId": "44453121-a097-4e02-f36f-a93a97c86a97"
      },
      "source": [
        "objective = cp.Minimize((capacities*l).T @ (cp.log(capacities) - cp.log(capacities-f)) + omegas.T@f )  #the cost for the wardrop problem is the same as above\n",
        "                                                                                                       #but with a cost w_e*f_e added\n",
        "prob = cp.Problem(objective, constraints)\n",
        "tolls_result = prob.solve()\n",
        "tolls_flow = f.value\n",
        "rounded_tolls_flow = [round(v) for v in tolls_flow]\n",
        "print(\"Wardrop f with tolls:\", rounded_tolls_flow)"
      ],
      "execution_count": null,
      "outputs": [
        {
          "output_type": "stream",
          "name": "stdout",
          "text": [
            "Wardrop f with tolls: [6642, 6059, 3132, 3132, 10164, 4638, 3006, 2543, 3132, 583, 0, 2927, 0, 3132, 5526, 2854, 4886, 2215, 464, 2338, 3318, 5656, 2373, 0, 6414, 5505, 4886, 4886]\n"
          ]
        }
      ]
    },
    {
      "cell_type": "code",
      "metadata": {
        "colab": {
          "base_uri": "https://localhost:8080/"
        },
        "id": "Qf0nvfyQOxva",
        "outputId": "5f4a3eef-e2e6-4b54-b1a9-9f3f792a0dc5"
      },
      "source": [
        "tolls_cost = cost(f = tolls_flow, l=traveltime, c=capacities)\n",
        "\n",
        "print(\"Wardrop cost with tolls:\", tolls_cost)\n",
        "\n",
        "print(\"POA with tolls:\", tolls_cost/optimal_cost)"
      ],
      "execution_count": null,
      "outputs": [
        {
          "output_type": "stream",
          "name": "stdout",
          "text": [
            "Wardrop cost with tolls: 25943.622816654955\n",
            "POA with tolls: 1.0000000288516186\n"
          ]
        }
      ]
    },
    {
      "cell_type": "code",
      "metadata": {
        "colab": {
          "base_uri": "https://localhost:8080/"
        },
        "id": "UZX6X1r9ldHi",
        "outputId": "5aeec401-49da-4422-f7d7-163d371d93ac"
      },
      "source": [
        "print(\"Wardrop f with tolls:\", rounded_tolls_flow)\n",
        "print(\"Optimal f:\", rounded_opt_flow)\n",
        "#Vectors besides some rounding issues coincide!"
      ],
      "execution_count": null,
      "outputs": [
        {
          "output_type": "stream",
          "name": "stdout",
          "text": [
            "Wardrop f with tolls: [6642, 6059, 3132, 3132, 10164, 4638, 3006, 2543, 3132, 583, 0, 2927, 0, 3132, 5526, 2854, 4886, 2215, 464, 2338, 3318, 5656, 2373, 0, 6414, 5505, 4886, 4886]\n",
            "Optimal f: [6642, 6059, 3132, 3132, 10164, 4638, 3006, 2543, 3132, 583, 0, 2927, 0, 3132, 5525, 2854, 4886, 2215, 464, 2338, 3318, 5656, 2373, 0, 6414, 5505, 4886, 4886]\n"
          ]
        }
      ]
    },
    {
      "cell_type": "markdown",
      "metadata": {
        "id": "DfogSauFnNle"
      },
      "source": [
        "**Point f)**\n",
        "\n",
        "We finally recalculate social optimum, tolls and Wardrop equilibrium with those tolls with cost function $c_e(f_e) = f_e(d_e(f_e) - l_e)$."
      ]
    },
    {
      "cell_type": "code",
      "metadata": {
        "colab": {
          "base_uri": "https://localhost:8080/"
        },
        "id": "u-9KzN_dnNSM",
        "outputId": "9a572d99-fcd7-4d0b-d880-a5aa81f24747"
      },
      "source": [
        "f = cp.Variable(n_edges)\n",
        "objective = cp.Minimize(((cp.inv_pos(np.ones(n_edges)-(f/capacities))).T@(l*capacities))-l.T@capacities -l.T@f)\n",
        "constraints = [B @ f == nu, f >=0, f <= (capacities-1)]\n",
        "prob = cp.Problem(objective, constraints)\n",
        "result = prob.solve()\n",
        "opt_flow_2 = f.value\n",
        "rounded_opt_flow = [round(v) for v in opt_flow_2]\n",
        "print(\"Optimal f:\", rounded_opt_flow)\n",
        "print(\"Optimal flow cost:\", result)"
      ],
      "execution_count": null,
      "outputs": [
        {
          "output_type": "stream",
          "name": "stdout",
          "text": [
            "Optimal f: [6653, 5775, 3420, 3420, 10153, 4643, 3106, 2662, 3009, 879, 0, 2355, 0, 3420, 5510, 3044, 4882, 2416, 444, 2008, 3487, 5495, 2204, 0, 6301, 5623, 4882, 4882]\n",
            "Optimal flow cost: 15095.50818984022\n"
          ]
        }
      ]
    },
    {
      "cell_type": "code",
      "metadata": {
        "id": "RqBBTKtQosUI"
      },
      "source": [
        "omegas = ((traveltime*(capacities) / (capacities - opt_flow_2)**2))* opt_flow_2"
      ],
      "execution_count": null,
      "outputs": []
    },
    {
      "cell_type": "code",
      "metadata": {
        "colab": {
          "base_uri": "https://localhost:8080/"
        },
        "id": "cWi0MDAopoeD",
        "outputId": "787f4db7-2d05-469c-d325-9a8d4b9db976"
      },
      "source": [
        "omegas"
      ],
      "execution_count": null,
      "outputs": [
        {
          "output_type": "execute_result",
          "data": {
            "text/plain": [
              "array([1.94584235e+00, 1.52711428e-01, 5.97224813e-02, 1.23786861e-01,\n",
              "       1.43018302e+00, 4.71408350e-01, 1.16314238e-01, 6.32035925e-02,\n",
              "       2.48314754e-01, 9.81553174e-03, 8.74273655e-08, 5.06045748e-02,\n",
              "       6.73014777e-08, 1.51183748e-01, 4.76284510e-01, 9.52456182e-02,\n",
              "       6.84313580e-02, 1.98235398e-02, 1.43814568e-03, 1.09723274e-02,\n",
              "       7.38053929e-02, 2.40509560e-01, 5.76040717e-02, 1.24225575e-08,\n",
              "       3.80384920e-01, 3.13898647e-01, 1.91146046e-01, 5.25804511e-01])"
            ]
          },
          "metadata": {},
          "execution_count": 31
        }
      ]
    },
    {
      "cell_type": "code",
      "metadata": {
        "colab": {
          "base_uri": "https://localhost:8080/"
        },
        "id": "IX4OnYDUpuRm",
        "outputId": "16de7e49-6bb5-41a5-fa40-33fdbf7408bd"
      },
      "source": [
        "objective = cp.Minimize((capacities*l).T @ (cp.log(capacities) - cp.log(capacities-f)) -l.T@f +  omegas.T@f )\n",
        "prob = cp.Problem(objective, constraints)\n",
        "tolls_result = prob.solve()\n",
        "tolls_flow = f.value\n",
        "rounded_tolls_flow = [round(v) for v in tolls_flow]\n",
        "print(\"Wardrop f with tolls:\", rounded_tolls_flow)"
      ],
      "execution_count": null,
      "outputs": [
        {
          "output_type": "stream",
          "name": "stdout",
          "text": [
            "Wardrop f with tolls: [6653, 5775, 3419, 3419, 10153, 4642, 3105, 2662, 3009, 878, 0, 2356, 0, 3419, 5510, 3043, 4882, 2415, 444, 2009, 3487, 5496, 2204, 0, 6301, 5624, 4882, 4882]\n"
          ]
        }
      ]
    },
    {
      "cell_type": "code",
      "metadata": {
        "colab": {
          "base_uri": "https://localhost:8080/"
        },
        "id": "h-6kW7lgqUIc",
        "outputId": "a16e65f5-efad-4aaa-8b18-bd088cf60bce"
      },
      "source": [
        "def relative_cost(f, l, c):\n",
        "  return np.sum(((l*c)/(np.ones(len(f))- f/c)) - l*c - l*f)\n",
        "\n",
        "  \n",
        "tolls_cost = relative_cost(f = tolls_flow, l=traveltime, c=capacities)\n",
        "\n",
        "print(\"Wardrop cost with tolls:\", tolls_cost)\n",
        "\n",
        "print(\"POA with tolls:\", tolls_cost/result)"
      ],
      "execution_count": null,
      "outputs": [
        {
          "output_type": "stream",
          "name": "stdout",
          "text": [
            "Wardrop cost with tolls: 15095.513257725923\n",
            "POA with tolls: 1.000000335721437\n"
          ]
        }
      ]
    }
  ]
}